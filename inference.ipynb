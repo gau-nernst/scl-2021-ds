{
 "cells": [
  {
   "cell_type": "markdown",
   "metadata": {},
   "source": [
    "# Inference"
   ]
  },
  {
   "cell_type": "code",
   "execution_count": 1,
   "metadata": {},
   "outputs": [],
   "source": [
    "import numpy as np\n",
    "import torch\n",
    "import pandas as pd\n",
    "import json\n",
    "\n",
    "from transformers import XLMRobertaTokenizerFast, XLMRobertaForTokenClassification, pipeline\n",
    "from transformers import AutoTokenizer, AutoModelForTokenClassification"
   ]
  },
  {
   "cell_type": "code",
   "execution_count": 2,
   "metadata": {},
   "outputs": [
    {
     "data": {
      "text/html": [
       "<div>\n",
       "<style scoped>\n",
       "    .dataframe tbody tr th:only-of-type {\n",
       "        vertical-align: middle;\n",
       "    }\n",
       "\n",
       "    .dataframe tbody tr th {\n",
       "        vertical-align: top;\n",
       "    }\n",
       "\n",
       "    .dataframe thead th {\n",
       "        text-align: right;\n",
       "    }\n",
       "</style>\n",
       "<table border=\"1\" class=\"dataframe\">\n",
       "  <thead>\n",
       "    <tr style=\"text-align: right;\">\n",
       "      <th></th>\n",
       "      <th>id</th>\n",
       "      <th>raw_address</th>\n",
       "    </tr>\n",
       "  </thead>\n",
       "  <tbody>\n",
       "    <tr>\n",
       "      <th>0</th>\n",
       "      <td>0</td>\n",
       "      <td>s. par 53 sidanegara 4 cilacap tengah</td>\n",
       "    </tr>\n",
       "    <tr>\n",
       "      <th>1</th>\n",
       "      <td>1</td>\n",
       "      <td>angg per, baloi indah kel. lubuk baja</td>\n",
       "    </tr>\n",
       "    <tr>\n",
       "      <th>2</th>\n",
       "      <td>2</td>\n",
       "      <td>asma laun, mand imog,</td>\n",
       "    </tr>\n",
       "    <tr>\n",
       "      <th>3</th>\n",
       "      <td>3</td>\n",
       "      <td>ud agung rej, raya nga sri wedari karanganyar</td>\n",
       "    </tr>\n",
       "    <tr>\n",
       "      <th>4</th>\n",
       "      <td>4</td>\n",
       "      <td>cut mutia, 35 baiturrahman</td>\n",
       "    </tr>\n",
       "    <tr>\n",
       "      <th>...</th>\n",
       "      <td>...</td>\n",
       "      <td>...</td>\n",
       "    </tr>\n",
       "    <tr>\n",
       "      <th>49995</th>\n",
       "      <td>49995</td>\n",
       "      <td>toko mbak farid semboro semboro</td>\n",
       "    </tr>\n",
       "    <tr>\n",
       "      <th>49996</th>\n",
       "      <td>49996</td>\n",
       "      <td>vie - tk. ridho kids, vete 3 cari, 16720 ciawi</td>\n",
       "    </tr>\n",
       "    <tr>\n",
       "      <th>49997</th>\n",
       "      <td>49997</td>\n",
       "      <td>mart dan roti bakar malabar, nasio,</td>\n",
       "    </tr>\n",
       "    <tr>\n",
       "      <th>49998</th>\n",
       "      <td>49998</td>\n",
       "      <td>graha indah pamulang jl. mujair raya bambu apu...</td>\n",
       "    </tr>\n",
       "    <tr>\n",
       "      <th>49999</th>\n",
       "      <td>49999</td>\n",
       "      <td>adi,</td>\n",
       "    </tr>\n",
       "  </tbody>\n",
       "</table>\n",
       "<p>50000 rows × 2 columns</p>\n",
       "</div>"
      ],
      "text/plain": [
       "          id                                        raw_address\n",
       "0          0              s. par 53 sidanegara 4 cilacap tengah\n",
       "1          1              angg per, baloi indah kel. lubuk baja\n",
       "2          2                              asma laun, mand imog,\n",
       "3          3      ud agung rej, raya nga sri wedari karanganyar\n",
       "4          4                         cut mutia, 35 baiturrahman\n",
       "...      ...                                                ...\n",
       "49995  49995                    toko mbak farid semboro semboro\n",
       "49996  49996     vie - tk. ridho kids, vete 3 cari, 16720 ciawi\n",
       "49997  49997                mart dan roti bakar malabar, nasio,\n",
       "49998  49998  graha indah pamulang jl. mujair raya bambu apu...\n",
       "49999  49999                                               adi,\n",
       "\n",
       "[50000 rows x 2 columns]"
      ]
     },
     "execution_count": 2,
     "metadata": {},
     "output_type": "execute_result"
    }
   ],
   "source": [
    "test_df = pd.read_csv(\"test.csv\")\n",
    "test_df"
   ]
  },
  {
   "cell_type": "markdown",
   "metadata": {},
   "source": [
    "## Test with 1 sample"
   ]
  },
  {
   "cell_type": "code",
   "execution_count": 3,
   "metadata": {},
   "outputs": [
    {
     "data": {
      "text/plain": [
       "'angg per, baloi indah kel. lubuk baja'"
      ]
     },
     "execution_count": 3,
     "metadata": {},
     "output_type": "execute_result"
    }
   ],
   "source": [
    "sample = test_df.iloc[1][\"raw_address\"]\n",
    "sample"
   ]
  },
  {
   "cell_type": "markdown",
   "metadata": {},
   "source": [
    "Load `id2tag` to decode model output"
   ]
  },
  {
   "cell_type": "code",
   "execution_count": 6,
   "metadata": {},
   "outputs": [
    {
     "data": {
      "text/plain": [
       "{0: 'street', 1: 'POI', 2: 'O'}"
      ]
     },
     "execution_count": 6,
     "metadata": {},
     "output_type": "execute_result"
    }
   ],
   "source": [
    "with open(\"tag2id_run5.json\", \"r\", encoding=\"utf-8\") as f:\n",
    "    file = json.load(f)\n",
    "    tag2id = file[\"tag2id\"]\n",
    "    id2tag = file[\"id2tag\"]\n",
    "\n",
    "id2tag = {int(k): v for k,v  in id2tag.items()}\n",
    "id2tag"
   ]
  },
  {
   "cell_type": "markdown",
   "metadata": {},
   "source": [
    "Use `pipeline` to load the model"
   ]
  },
  {
   "cell_type": "code",
   "execution_count": 7,
   "metadata": {},
   "outputs": [
    {
     "name": "stderr",
     "output_type": "stream",
     "text": [
      "Some weights of BertModel were not initialized from the model checkpoint at ./model_indobert and are newly initialized: ['bert.pooler.dense.weight', 'bert.pooler.dense.bias']\n",
      "You should probably TRAIN this model on a down-stream task to be able to use it for predictions and inference.\n"
     ]
    }
   ],
   "source": [
    "address_extract = pipeline(\n",
    "    task=\"ner\", \n",
    "    model=\"./results_run5/checkpoint-6000\", \n",
    "    tokenizer=\"./results_run5/checkpoint-6000\", \n",
    "    grouped_entities=True,\n",
    "    ignore_labels=[f\"LABEL_{tag2id['O']}\"]\n",
    ")"
   ]
  },
  {
   "cell_type": "code",
   "execution_count": 8,
   "metadata": {},
   "outputs": [
    {
     "name": "stderr",
     "output_type": "stream",
     "text": [
      "Asking to truncate to max_length but no maximum length is provided and the model has no predefined maximum length. Default to no truncation.\n"
     ]
    },
    {
     "data": {
      "text/html": [
       "<div>\n",
       "<style scoped>\n",
       "    .dataframe tbody tr th:only-of-type {\n",
       "        vertical-align: middle;\n",
       "    }\n",
       "\n",
       "    .dataframe tbody tr th {\n",
       "        vertical-align: top;\n",
       "    }\n",
       "\n",
       "    .dataframe thead th {\n",
       "        text-align: right;\n",
       "    }\n",
       "</style>\n",
       "<table border=\"1\" class=\"dataframe\">\n",
       "  <thead>\n",
       "    <tr style=\"text-align: right;\">\n",
       "      <th></th>\n",
       "      <th>0</th>\n",
       "    </tr>\n",
       "  </thead>\n",
       "  <tbody>\n",
       "    <tr>\n",
       "      <th>entity_group</th>\n",
       "      <td>LABEL_0</td>\n",
       "    </tr>\n",
       "    <tr>\n",
       "      <th>score</th>\n",
       "      <td>0.903341</td>\n",
       "    </tr>\n",
       "    <tr>\n",
       "      <th>word</th>\n",
       "      <td>angg per</td>\n",
       "    </tr>\n",
       "    <tr>\n",
       "      <th>start</th>\n",
       "      <td>0</td>\n",
       "    </tr>\n",
       "    <tr>\n",
       "      <th>end</th>\n",
       "      <td>8</td>\n",
       "    </tr>\n",
       "  </tbody>\n",
       "</table>\n",
       "</div>"
      ],
      "text/plain": [
       "                     0\n",
       "entity_group   LABEL_0\n",
       "score         0.903341\n",
       "word          angg per\n",
       "start                0\n",
       "end                  8"
      ]
     },
     "execution_count": 8,
     "metadata": {},
     "output_type": "execute_result"
    }
   ],
   "source": [
    "result = address_extract(sample)\n",
    "pd.DataFrame(result).T"
   ]
  },
  {
   "cell_type": "markdown",
   "metadata": {},
   "source": [
    "## Extract POI and street from model output"
   ]
  },
  {
   "cell_type": "code",
   "execution_count": 11,
   "metadata": {},
   "outputs": [],
   "source": [
    "tokenizer = XLMRobertaTokenizerFast.from_pretrained(\"./results_run5/checkpoint-6000\")"
   ]
  },
  {
   "cell_type": "code",
   "execution_count": 12,
   "metadata": {},
   "outputs": [
    {
     "data": {
      "text/plain": [
       "{0: 'street', 1: 'POI', 2: 'O'}"
      ]
     },
     "execution_count": 12,
     "metadata": {},
     "output_type": "execute_result"
    }
   ],
   "source": [
    "id2tag"
   ]
  },
  {
   "cell_type": "markdown",
   "metadata": {},
   "source": [
    "Choose the group with highest score"
   ]
  },
  {
   "cell_type": "code",
   "execution_count": 13,
   "metadata": {},
   "outputs": [
    {
     "name": "stdout",
     "output_type": "stream",
     "text": [
      "{'POI': {'word': '', 'score': 0}, 'street': {'word': 'perum nua suka', 'score': 0.9003584682941437}}\n",
      "{'POI': {'word': 'kios sury b', 'score': 0.7671713382005692}, 'street': {'word': 'may sut', 'score': 0.7526836693286896}}\n",
      "{'POI': {'word': 'apartemen sauthgate stasiun', 'score': 0.874185836315155}, 'street': {'word': '', 'score': 0}}\n",
      "{'POI': {'word': '', 'score': 0}, 'street': {'word': 'taman ubud indah viii', 'score': 0.919511079788208}}\n",
      "{'POI': {'word': '', 'score': 0}, 'street': {'word': 'mah', 'score': 0.8990364074707031}}\n",
      "{'POI': {'word': '', 'score': 0}, 'street': {'word': 'r. e. mar', 'score': 0.9122492432594299}}\n",
      "{'POI': {'word': '', 'score': 0}, 'street': {'word': 'bala vi', 'score': 0.9063057899475098}}\n",
      "{'POI': {'word': '', 'score': 0}, 'street': {'word': 'kerja bakti iv', 'score': 0.9109340707461039}}\n",
      "{'POI': {'word': 'plaza marein', 'score': 0.9202009240786234}, 'street': {'word': 'jl jendral sudirman', 'score': 0.9211373130480448}}\n",
      "{'POI': {'word': 'char seluler', 'score': 0.769793689250946}, 'street': {'word': '', 'score': 0}}\n"
     ]
    }
   ],
   "source": [
    "def post_process(result, tokenizer, id2tag):\n",
    "    types = [\"POI\", \"street\"]\n",
    "    \n",
    "    elements = {}\n",
    "    for x in types:\n",
    "        elements[x] = {\n",
    "            \"word\": \"\",\n",
    "            \"score\": 0\n",
    "        }\n",
    "    \n",
    "    for entity in result:\n",
    "        # check for empty word\n",
    "        if not entity[\"word\"]:\n",
    "            continue\n",
    "        \n",
    "        # convert to label\n",
    "        tag_id = int(entity[\"entity_group\"][-1])\n",
    "        label = id2tag[tag_id]\n",
    "        if label == \"O\":\n",
    "            continue\n",
    "    \n",
    "        if entity[\"score\"] > elements[label][\"score\"]:\n",
    "            elements[label][\"word\"] = entity[\"word\"]\n",
    "            elements[label][\"score\"] = entity[\"score\"]\n",
    "    \n",
    "    return elements\n",
    "\n",
    "for x in results:\n",
    "    print(post_process(x, tokenizer, id2tag))"
   ]
  },
  {
   "cell_type": "markdown",
   "metadata": {},
   "source": [
    "## Inference on all test set"
   ]
  },
  {
   "cell_type": "code",
   "execution_count": 14,
   "metadata": {},
   "outputs": [
    {
     "name": "stderr",
     "output_type": "stream",
     "text": [
      "Some weights of BertModel were not initialized from the model checkpoint at ./model_indobert and are newly initialized: ['bert.pooler.dense.weight', 'bert.pooler.dense.bias']\n",
      "You should probably TRAIN this model on a down-stream task to be able to use it for predictions and inference.\n"
     ]
    }
   ],
   "source": [
    "test_texts = test_df[\"raw_address\"].to_list()\n",
    "\n",
    "address_extract = pipeline(\n",
    "    task=\"ner\", \n",
    "    model=\"./results_run5/checkpoint-6000\", \n",
    "    tokenizer=\"./results_run5/checkpoint-6000\",\n",
    "    grouped_entities=True,\n",
    "    ignore_labels=[f\"LABEL_{tag2id['O']}\"],\n",
    "    device=1\n",
    ")"
   ]
  },
  {
   "cell_type": "markdown",
   "metadata": {},
   "source": [
    "Run inference, will take a while"
   ]
  },
  {
   "cell_type": "code",
   "execution_count": 15,
   "metadata": {},
   "outputs": [
    {
     "name": "stderr",
     "output_type": "stream",
     "text": [
      "Asking to truncate to max_length but no maximum length is provided and the model has no predefined maximum length. Default to no truncation.\n"
     ]
    }
   ],
   "source": [
    "preds = address_extract(test_texts)"
   ]
  },
  {
   "cell_type": "code",
   "execution_count": 16,
   "metadata": {},
   "outputs": [
    {
     "data": {
      "text/plain": [
       "[{'entity_group': 'LABEL_0',\n",
       "  'score': 0.9103303949038187,\n",
       "  'word': 's. par',\n",
       "  'start': 0,\n",
       "  'end': 6}]"
      ]
     },
     "execution_count": 16,
     "metadata": {},
     "output_type": "execute_result"
    }
   ],
   "source": [
    "preds[0]"
   ]
  },
  {
   "cell_type": "markdown",
   "metadata": {},
   "source": [
    "Apply post processing"
   ]
  },
  {
   "cell_type": "code",
   "execution_count": 17,
   "metadata": {},
   "outputs": [
    {
     "data": {
      "text/plain": [
       "{'POI': {'word': '', 'score': 0},\n",
       " 'street': {'word': 's. par', 'score': 0.9103303949038187}}"
      ]
     },
     "execution_count": 17,
     "metadata": {},
     "output_type": "execute_result"
    }
   ],
   "source": [
    "post_process(preds[0], tokenizer, id2tag)"
   ]
  },
  {
   "cell_type": "markdown",
   "metadata": {},
   "source": [
    "Save results to required format"
   ]
  },
  {
   "cell_type": "code",
   "execution_count": 18,
   "metadata": {},
   "outputs": [],
   "source": [
    "results = []\n",
    "for i in range(len(test_texts)):\n",
    "    result = post_process(preds[i], tokenizer, id2tag)\n",
    "    results.append(f\"{result['POI']['word']}/{result['street']['word']}\")"
   ]
  },
  {
   "cell_type": "code",
   "execution_count": 19,
   "metadata": {},
   "outputs": [
    {
     "data": {
      "text/plain": [
       "['/s. par',\n",
       " '/angg per',\n",
       " 'asma laun/mand imog',\n",
       " 'ud agung rej/raya nga',\n",
       " '/cut mutia',\n",
       " 'pem dos dapur ala/perum gar',\n",
       " 'tb. mara/',\n",
       " 'pura taman beji tista/',\n",
       " 'tk/',\n",
       " '/raya won']"
      ]
     },
     "execution_count": 19,
     "metadata": {},
     "output_type": "execute_result"
    }
   ],
   "source": [
    "results[:10]"
   ]
  },
  {
   "cell_type": "markdown",
   "metadata": {},
   "source": [
    "## Export results for submission"
   ]
  },
  {
   "cell_type": "code",
   "execution_count": 20,
   "metadata": {},
   "outputs": [
    {
     "data": {
      "text/html": [
       "<div>\n",
       "<style scoped>\n",
       "    .dataframe tbody tr th:only-of-type {\n",
       "        vertical-align: middle;\n",
       "    }\n",
       "\n",
       "    .dataframe tbody tr th {\n",
       "        vertical-align: top;\n",
       "    }\n",
       "\n",
       "    .dataframe thead th {\n",
       "        text-align: right;\n",
       "    }\n",
       "</style>\n",
       "<table border=\"1\" class=\"dataframe\">\n",
       "  <thead>\n",
       "    <tr style=\"text-align: right;\">\n",
       "      <th></th>\n",
       "      <th>id</th>\n",
       "      <th>raw_address</th>\n",
       "      <th>POI/street</th>\n",
       "    </tr>\n",
       "  </thead>\n",
       "  <tbody>\n",
       "    <tr>\n",
       "      <th>0</th>\n",
       "      <td>0</td>\n",
       "      <td>s. par 53 sidanegara 4 cilacap tengah</td>\n",
       "      <td>/s. par</td>\n",
       "    </tr>\n",
       "    <tr>\n",
       "      <th>1</th>\n",
       "      <td>1</td>\n",
       "      <td>angg per, baloi indah kel. lubuk baja</td>\n",
       "      <td>/angg per</td>\n",
       "    </tr>\n",
       "    <tr>\n",
       "      <th>2</th>\n",
       "      <td>2</td>\n",
       "      <td>asma laun, mand imog,</td>\n",
       "      <td>asma laun/mand imog</td>\n",
       "    </tr>\n",
       "    <tr>\n",
       "      <th>3</th>\n",
       "      <td>3</td>\n",
       "      <td>ud agung rej, raya nga sri wedari karanganyar</td>\n",
       "      <td>ud agung rej/raya nga</td>\n",
       "    </tr>\n",
       "    <tr>\n",
       "      <th>4</th>\n",
       "      <td>4</td>\n",
       "      <td>cut mutia, 35 baiturrahman</td>\n",
       "      <td>/cut mutia</td>\n",
       "    </tr>\n",
       "    <tr>\n",
       "      <th>...</th>\n",
       "      <td>...</td>\n",
       "      <td>...</td>\n",
       "      <td>...</td>\n",
       "    </tr>\n",
       "    <tr>\n",
       "      <th>49995</th>\n",
       "      <td>49995</td>\n",
       "      <td>toko mbak farid semboro semboro</td>\n",
       "      <td>toko mbak farid/</td>\n",
       "    </tr>\n",
       "    <tr>\n",
       "      <th>49996</th>\n",
       "      <td>49996</td>\n",
       "      <td>vie - tk. ridho kids, vete 3 cari, 16720 ciawi</td>\n",
       "      <td>vie - tk. ridho kids/vete 3 cari</td>\n",
       "    </tr>\n",
       "    <tr>\n",
       "      <th>49997</th>\n",
       "      <td>49997</td>\n",
       "      <td>mart dan roti bakar malabar, nasio,</td>\n",
       "      <td>mart dan roti bakar malabar/nasio</td>\n",
       "    </tr>\n",
       "    <tr>\n",
       "      <th>49998</th>\n",
       "      <td>49998</td>\n",
       "      <td>graha indah pamulang jl. mujair raya bambu apu...</td>\n",
       "      <td>graha indah/jl. mujair raya</td>\n",
       "    </tr>\n",
       "    <tr>\n",
       "      <th>49999</th>\n",
       "      <td>49999</td>\n",
       "      <td>adi,</td>\n",
       "      <td>adi/</td>\n",
       "    </tr>\n",
       "  </tbody>\n",
       "</table>\n",
       "<p>50000 rows × 3 columns</p>\n",
       "</div>"
      ],
      "text/plain": [
       "          id                                        raw_address  \\\n",
       "0          0              s. par 53 sidanegara 4 cilacap tengah   \n",
       "1          1              angg per, baloi indah kel. lubuk baja   \n",
       "2          2                              asma laun, mand imog,   \n",
       "3          3      ud agung rej, raya nga sri wedari karanganyar   \n",
       "4          4                         cut mutia, 35 baiturrahman   \n",
       "...      ...                                                ...   \n",
       "49995  49995                    toko mbak farid semboro semboro   \n",
       "49996  49996     vie - tk. ridho kids, vete 3 cari, 16720 ciawi   \n",
       "49997  49997                mart dan roti bakar malabar, nasio,   \n",
       "49998  49998  graha indah pamulang jl. mujair raya bambu apu...   \n",
       "49999  49999                                               adi,   \n",
       "\n",
       "                              POI/street  \n",
       "0                                /s. par  \n",
       "1                              /angg per  \n",
       "2                    asma laun/mand imog  \n",
       "3                  ud agung rej/raya nga  \n",
       "4                             /cut mutia  \n",
       "...                                  ...  \n",
       "49995                   toko mbak farid/  \n",
       "49996   vie - tk. ridho kids/vete 3 cari  \n",
       "49997  mart dan roti bakar malabar/nasio  \n",
       "49998        graha indah/jl. mujair raya  \n",
       "49999                               adi/  \n",
       "\n",
       "[50000 rows x 3 columns]"
      ]
     },
     "execution_count": 20,
     "metadata": {},
     "output_type": "execute_result"
    }
   ],
   "source": [
    "test_df[\"POI/street\"] = results\n",
    "test_df"
   ]
  },
  {
   "cell_type": "code",
   "execution_count": 20,
   "metadata": {},
   "outputs": [],
   "source": [
    "test_df[[\"id\", \"POI/street\"]].to_csv(\"submission.csv\", index=False)"
   ]
  },
  {
   "cell_type": "code",
   "execution_count": null,
   "metadata": {},
   "outputs": [],
   "source": []
  }
 ],
 "metadata": {
  "kernelspec": {
   "display_name": "Python [conda env:ner]",
   "language": "python",
   "name": "conda-env-ner-py"
  },
  "language_info": {
   "codemirror_mode": {
    "name": "ipython",
    "version": 3
   },
   "file_extension": ".py",
   "mimetype": "text/x-python",
   "name": "python",
   "nbconvert_exporter": "python",
   "pygments_lexer": "ipython3",
   "version": "3.8.8"
  }
 },
 "nbformat": 4,
 "nbformat_minor": 4
}
